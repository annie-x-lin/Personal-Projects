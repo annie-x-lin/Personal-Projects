{
 "cells": [
  {
   "cell_type": "code",
   "execution_count": null,
   "id": "8da6a5b0-6cce-4212-9db4-51179a3fc653",
   "metadata": {
    "tags": []
   },
   "outputs": [],
   "source": [
    "#credits to https://www.geeksforgeeks.org/gui-chat-application-using-tkinter-in-python/ for inspiring this project\n",
    "\n",
    "import socket\n",
    "import sys\n",
    "import threading\n",
    "\n",
    "sock = socket.socket(socket.AF_INET, socket.SOCK_STREAM)\n",
    "host = socket.gethostbyname(socket.gethostname())\n",
    "port = 5002\n",
    "sock.bind((host, port))\n",
    "n=500\n",
    "clients = []\n",
    "names = []\n",
    "passwords={\"Annie\":\"password\", \"Dummy\":\"password1\"}\n",
    "\n",
    "\n",
    "def broadcast(message):\n",
    "    for client in clients:\n",
    "        try:\n",
    "            client.send(message)\n",
    "        except:\n",
    "            continue\n",
    "        \n",
    "def handle(conn, addr):\n",
    "    print(f\"new connection {addr}\")\n",
    "    connected = True\n",
    "     \n",
    "    while connected:\n",
    "        message = conn.recv(n)\n",
    "        broadcast(message)\n",
    "    conn.close()\n",
    "    \n",
    "    \n",
    "def startChat():\n",
    "    print(\"server is searching...\")\n",
    "    # listening for connections\n",
    "    while True:\n",
    "        sock.listen()\n",
    "        conn, addr =  sock.accept()\n",
    "        conn.send(\"NAME\".encode('utf-8'))\n",
    "        name = conn.recv(n).decode('utf-8')\n",
    "        print(\"client \"+name+\" is connected.\")\n",
    "        clients.append(conn)\n",
    "        names.append(name)\n",
    "        conn.send(\"PASSWORD\".encode('utf-8'))\n",
    "        Pass = conn.recv(n).decode('utf-8')\n",
    "        try:\n",
    "            if passwords[name]!=Pass:\n",
    "                conn.shutdown(2)\n",
    "            else:\n",
    "                broadcast(f\"{name} is online!\".encode('utf-8'))\n",
    "                thread = threading.Thread(target = handle, args = (conn, addr))\n",
    "                thread.start()\n",
    "                print(\"Active Connection\")\n",
    "        except:\n",
    "            conn.shutdown(2)\n",
    "\n",
    "startChat()"
   ]
  },
  {
   "cell_type": "code",
   "execution_count": null,
   "id": "378c083a-9b7f-4525-999c-e2cb21deacfe",
   "metadata": {},
   "outputs": [],
   "source": []
  }
 ],
 "metadata": {
  "kernelspec": {
   "display_name": "Python 3",
   "language": "python",
   "name": "python3"
  },
  "language_info": {
   "codemirror_mode": {
    "name": "ipython",
    "version": 3
   },
   "file_extension": ".py",
   "mimetype": "text/x-python",
   "name": "python",
   "nbconvert_exporter": "python",
   "pygments_lexer": "ipython3",
   "version": "3.8.8"
  }
 },
 "nbformat": 4,
 "nbformat_minor": 5
}
