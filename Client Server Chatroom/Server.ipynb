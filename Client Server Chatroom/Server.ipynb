{
 "cells": [
  {
   "cell_type": "code",
   "execution_count": 13,
   "id": "525fb7fe-fb84-4df8-a415-84fa184fd54a",
   "metadata": {},
   "outputs": [
    {
     "name": "stdout",
     "output_type": "stream",
     "text": [
      "Waiting for a connection...\n",
      "('172.27.212.193', 52605) connected\n",
      "\n",
      "            Welcome to your chatroom\n",
      "Type your message or press enter to end connection: \n",
      "\n",
      "received:                     hello\n"
     ]
    },
    {
     "name": "stdin",
     "output_type": "stream",
     "text": [
      "Send:                         its me\n"
     ]
    },
    {
     "name": "stdout",
     "output_type": "stream",
     "text": [
      "Client exited the conversation \n",
      "Connection closed\n"
     ]
    }
   ],
   "source": [
    "#this is the server copy of the client-server chatroom code. See Client.ipynb for client version. \n",
    "import socket\n",
    "import sys\n",
    " \n",
    "# Create a TCP/IP socket\n",
    "sock = socket.socket(socket.AF_INET, socket.SOCK_STREAM)\n",
    " \n",
    "# Define host\n",
    "host = socket.gethostbyname(socket.gethostname())\n",
    "#host='localhost'\n",
    "\n",
    "# define the communication port\n",
    "port = 8080\n",
    " \n",
    "# Bind the socket to the port\n",
    "sock.bind((host, port))\n",
    "# Listen for incoming connections\n",
    "sock.listen(1)\n",
    "n=500\n",
    "\n",
    "print ('Waiting for a connection...')\n",
    "connection, client = sock.accept()\n",
    "print (client, 'connected')\n",
    "print(\"\")\n",
    "print(\"            Welcome to your chatroom\")\n",
    "print(\"Type your message or press enter to end connection: \")\n",
    "print(\"\")\n",
    "data=0\n",
    "\n",
    "while data!='':\n",
    "    data = connection.recv(n)\n",
    "    data=data.decode('utf-8')\n",
    "    \n",
    "    if data=='':\n",
    "        print ('Client exited the conversation ')\n",
    "        break\n",
    "    print ('received: ' +\" \"*20+ data)\n",
    "    test_string=input(\"send: \"+\" \"*23)\n",
    "    while len(test_string)> n:\n",
    "        print(\"Message exeed word limit, please re type: \" )\n",
    "        test_string=input() \n",
    "    if test_string=='':\n",
    "        print ('Conversation ended ')\n",
    "        break\n",
    "    res= test_string.encode('utf-8')\n",
    "    connection.send(res)\n",
    "connection.close()\n",
    "print(\"Connection closed\")"
   ]
  },
  {
   "cell_type": "code",
   "execution_count": null,
   "id": "673c7c2a-f1c2-4d3c-84ac-615c57003351",
   "metadata": {},
   "outputs": [],
   "source": []
  }
 ],
 "metadata": {
  "kernelspec": {
   "display_name": "Python 3",
   "language": "python",
   "name": "python3"
  },
  "language_info": {
   "codemirror_mode": {
    "name": "ipython",
    "version": 3
   },
   "file_extension": ".py",
   "mimetype": "text/x-python",
   "name": "python",
   "nbconvert_exporter": "python",
   "pygments_lexer": "ipython3",
   "version": "3.8.8"
  }
 },
 "nbformat": 4,
 "nbformat_minor": 5
}
