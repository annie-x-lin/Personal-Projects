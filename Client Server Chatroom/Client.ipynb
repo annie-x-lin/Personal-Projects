{
 "cells": [
  {
   "cell_type": "code",
   "execution_count": 28,
   "id": "ce92cc92-62cd-48ae-83b1-a1899af2d721",
   "metadata": {},
   "outputs": [
    {
     "name": "stdout",
     "output_type": "stream",
     "text": [
      "Connecting...\n",
      "\n",
      "            Welcome to your chatroom\n",
      "Type your message or press enter to end connection: \n",
      "\n"
     ]
    },
    {
     "name": "stdin",
     "output_type": "stream",
     "text": [
      "sent:                         hello\n"
     ]
    },
    {
     "name": "stdout",
     "output_type": "stream",
     "text": [
      "received:                     its me\n"
     ]
    },
    {
     "name": "stdin",
     "output_type": "stream",
     "text": [
      "sent:                         \n"
     ]
    },
    {
     "name": "stdout",
     "output_type": "stream",
     "text": [
      "Conversation ended\n",
      "Socket closed\n"
     ]
    }
   ],
   "source": [
    "#this is the client copy of the client-server chatroom code. See Server.ipynb for client version. \n",
    "\n",
    "from datetime import datetime\n",
    "import socket\n",
    "import sys\n",
    "# Create a TCP/IP socket\n",
    "stream_socket = socket.socket(socket.AF_INET, socket.SOCK_STREAM)\n",
    "\n",
    "# Define host\n",
    "host = 'your servers local ip address'\n",
    "host = socket.gethostbyname(socket.gethostname()) #replace with your server's local ip address\n",
    "\n",
    "\n",
    "# define the communication port\n",
    "port = 8080\n",
    "\n",
    "#create chat history\n",
    "chathistory=[]\n",
    "chathistory.append(\"          CHAT HISTORY\")\n",
    "\n",
    "# Connect the socket to the port where the server is listening\n",
    "server_address = ((host, port))\n",
    "n=500\n",
    "\n",
    "print(\"Connecting...\")\n",
    "print(\"\")\n",
    "stream_socket.connect(server_address)\n",
    "chathistory.append(\"   \"+str(datetime.now()))\n",
    "print(\"            Welcome to your chatroom\")\n",
    "\n",
    "# Send data\n",
    "print(\"Type your message or press enter to end connection: \")\n",
    "print(\"\")\n",
    "while True:\n",
    "    test_string=input(\"sent: \"+\" \"*23)\n",
    "    while len(test_string)>n:\n",
    "        print(\"Msg too long, please re-type: \")\n",
    "        test_string=input()\n",
    "    res= test_string.encode('utf-8')\n",
    "    stream_socket.sendall(res)\n",
    "    # response\n",
    "    if test_string=='':\n",
    "        print(\"Conversation ended\")\n",
    "        break\n",
    "    chathistory.append(\"sent: \"+\" \"*23+test_string)\n",
    "    data = stream_socket.recv(n)\n",
    "    data = data.decode('utf-8')\n",
    "    if data=='':\n",
    "        print(\"Host exited the conversation\")\n",
    "        break\n",
    "    print (\"received: \"+\" \"*20+data)\n",
    "    chathistory.append(\"received: \"+\" \"*19+data)\n",
    "print ('Socket closed')\n",
    "stream_socket.close()"
   ]
  },
  {
   "cell_type": "code",
   "execution_count": 29,
   "id": "5464e8fe-fd66-462c-8a2b-9fbc985e4038",
   "metadata": {},
   "outputs": [
    {
     "name": "stdin",
     "output_type": "stream",
     "text": [
      "would you like to see your chat history? y/n y\n"
     ]
    },
    {
     "name": "stdout",
     "output_type": "stream",
     "text": [
      "\n",
      "          CHAT HISTORY\n",
      "   2021-10-21 23:50:54.676111\n",
      "sent:                        hello\n",
      "received:                    its me\n"
     ]
    }
   ],
   "source": [
    "chat = input(\"would you like to see your chat history? y/n\")\n",
    "print(\"\")\n",
    "if chat == \"y\":\n",
    "    for i in chathistory:\n",
    "        print(i)"
   ]
  },
  {
   "cell_type": "code",
   "execution_count": null,
   "id": "ac7cda96-740b-4946-8ced-db7bbe1e1638",
   "metadata": {},
   "outputs": [],
   "source": []
  }
 ],
 "metadata": {
  "kernelspec": {
   "display_name": "Python 3",
   "language": "python",
   "name": "python3"
  },
  "language_info": {
   "codemirror_mode": {
    "name": "ipython",
    "version": 3
   },
   "file_extension": ".py",
   "mimetype": "text/x-python",
   "name": "python",
   "nbconvert_exporter": "python",
   "pygments_lexer": "ipython3",
   "version": "3.8.8"
  }
 },
 "nbformat": 4,
 "nbformat_minor": 5
}
